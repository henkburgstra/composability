{
 "cells": [
  {
   "cell_type": "markdown",
   "metadata": {},
   "source": [
    "# DOEL: Composable User Interfaces\n",
    "\n",
    "Interface-beschrijvingen zijn templates in JSON-formaat. Het systeem leest de templates in en leidt daaruit af welke data moeten worden opgevraagd. De databehoefte wordt afgeleid uit de gebruikersinterface in plaats van andersom zoals gebruikelijk.\n",
    "\n",
    "\n",
    "Templates worden on-demand geladen door de template registry.\n",
    "\n",
    "Views zijn **composable**. Om dit te bereiken kunnen subtemplates\n",
    "worden geladen met keyword \"include\" De werking van een (sub)view\n",
    "hangt niet af van de manier waarop deze geladen is: het maakt voor\n",
    "een adres-view niet uit of deze onderdeel uitmaakt van een patiënt-\n",
    "of een verzekeraarscherm.\n",
    "\n",
    "Elke view wordt bestuurd door een controller. Controllers kunnen\n",
    "subcontrollers hebben om composable views mogelijk te maken.\n",
    "\n",
    "Views zijn **extendable**. Met het keyword \"extend\" kan een\n",
    "template aangeven welke template moet worden uitgebreid\n",
    "en voor (keyword \"before\") of na (keyword \"after\") welk element\n",
    "het moet worden ingevoegd.\n",
    "\n",
    "Views zijn **modifiable**. Met het keyword \"modify\" kan een\n",
    "template aangeven welke template gewijzigd moet worden.\n",
    "\n",
    "\n",
    "## Klassen\n",
    "\n",
    "**Registry**\n",
    "- Verzorgt het laden van templates. Bevat de logica voor\n",
    "    \"include\", \"extend\" en \"modify\".\n",
    "\n",
    "**View**\n",
    "- Metaclass. Definieert de interface voor view implementaties\n",
    "    (wx, qt, ...)\n",
    "\n",
    "**Template**\n",
    "- Representatie van een template\n",
    "\n",
    "**Controller**\n",
    "- De logica van een view; handelt berichten af en verzorgt\n",
    "    het laden van een view.\n",
    "\n",
    "**Binder**\n",
    "- Koppeling tussen template en view. Weet hoe een view moet\n",
    "  worden geladen met data op basis van een template\n",
    "  en met behulp van een Loader\n",
    "  Subklassen:\n",
    "  - SQLBinder"
   ]
  }
 ],
 "metadata": {
  "kernelspec": {
   "display_name": "Python 3",
   "language": "python",
   "name": "python3"
  },
  "language_info": {
   "codemirror_mode": {
    "name": "ipython",
    "version": 3
   },
   "file_extension": ".py",
   "mimetype": "text/x-python",
   "name": "python",
   "nbconvert_exporter": "python",
   "pygments_lexer": "ipython3",
   "version": "3.4.3"
  }
 },
 "nbformat": 4,
 "nbformat_minor": 0
}
